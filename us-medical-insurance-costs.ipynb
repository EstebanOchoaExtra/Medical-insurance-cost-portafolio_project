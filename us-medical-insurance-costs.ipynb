{
 "cells": [
  {
   "cell_type": "markdown",
   "metadata": {},
   "source": [
    "# U.S. Medical Insurance Costs\n",
    "\n",
    "In this project, a **CSV** file with medical insurance costs will be investigated using Python fundamentals. The goal with this project will be to analyze various attributes within **insurance.csv** to learn more about the patient information in the file and gain insight into potential use cases for the dataset."
   ]
  },
  {
   "cell_type": "code",
   "execution_count": 1,
   "metadata": {},
   "outputs": [],
   "source": [
    "# import csv library\n",
    "import csv\n",
    "import statistics"
   ]
  },
  {
   "cell_type": "markdown",
   "metadata": {},
   "source": [
    "## Scope\n",
    "  For this project his major achivement is to interact whit \"real data\" in the manner that the user can assimilate the concepts that Python offers to manage the csv files. \n",
    "    The file `Insurace.csv` conteins seven columns wich information have to be analyze in base of his \"charge\" column because it repesent the variation between every subject. In this way we analyzed the next criteria:\n",
    "\n",
    "##### 1.-Analyze ages\n",
    "   * Find Max and Min\n",
    "       * Relation by charges\n",
    "       * Groups between ages\n",
    "       * Standart Derivation \n",
    "       \n",
    "##### 2.-Analyze genres   \n",
    "   * Quantity of each one\n",
    "   * Relation by charges\n",
    "   \n",
    "##### 3.-Percentage of Smoke individuals \n",
    "   * Relation by charges\n",
    "   * Smokers and NonSmokers Percentage \n",
    "   \n",
    "##### 4.-Average number of people how have children\n",
    "   * Average of childrens in general \n",
    "     * Gather into specific groups\n",
    "   * Relation by charges\n",
    "   \n",
    "##### 5.-BMI\n",
    "   * \n",
    "\n",
    "##### 6.-The most repetitive region\n",
    "   * Quantity of each one.\n",
    "   * Unique regions\n",
    "   \n",
    "##### 7.-Charge average.\n",
    "   * The max and min quantities\n",
    "   * Average\n",
    "   * Variance \n",
    "   * Standart Derivation  \n",
    "   \n",
    "   \n",
    "### Importan questions to answer:\n",
    "   * How do certain factors affect the charge amount?\n",
    "   * What is the impact of certain factors on charge amount for smokers compared to non-smokers?"
   ]
  },
  {
   "cell_type": "markdown",
   "metadata": {},
   "source": [
    "The next step is to look through **insurance.csv** in order to get acquainted with the data. The following aspects of the data file will be checked in order to plan out how to import the data into a Python file:\n",
    "* The names of columns and rows\n",
    "* Any noticeable missing data\n",
    "* Types of values (numerical vs. categorical)"
   ]
  },
  {
   "cell_type": "code",
   "execution_count": 2,
   "metadata": {},
   "outputs": [
    {
     "name": "stdout",
     "output_type": "stream",
     "text": [
      "<csv.DictReader object at 0x0000024BC9F9F790>\n",
      "{'age': '19', 'sex': 'female', 'bmi': '27.9', 'children': '0', 'smoker': 'yes', 'region': 'southwest', 'charges': '16884.924'}\n",
      "{'age': '18', 'sex': 'male', 'bmi': '33.77', 'children': '1', 'smoker': 'no', 'region': 'southeast', 'charges': '1725.5523'}\n",
      "{'age': '28', 'sex': 'male', 'bmi': '33', 'children': '3', 'smoker': 'no', 'region': 'southeast', 'charges': '4449.462'}\n"
     ]
    }
   ],
   "source": [
    "limit = 3\n",
    "count = 0 \n",
    "with open('insurance.csv') as csv_info:\n",
    "    csv_dict = csv.DictReader(csv_info)\n",
    "    print(csv_dict)\n",
    "    for row in csv_dict:\n",
    "        count +=1\n",
    "        print(row)\n",
    "        if count >= limit:\n",
    "            break"
   ]
  },
  {
   "cell_type": "markdown",
   "metadata": {},
   "source": [
    "**insurance.csv** contains the following columns:\n",
    "* Patient Age\n",
    "* Patient Sex \n",
    "* Patient BMI\n",
    "* Patient Number of Children\n",
    "* Patient Smoking Status\n",
    "* Patient U.S Geopraphical Region\n",
    "* Patient Yearly Medical Insurance Cost\n",
    "\n",
    "There are no signs of missing data. To store this information, seven empty lists will be created hold each individual column of data from **insurance.csv**.\n"
   ]
  },
  {
   "cell_type": "markdown",
   "metadata": {},
   "source": [
    "This is a preview of data type that we are going to dive into. It is useful because we find out what we have in our dataset, their arranchment  and what analysis we need to do.\n",
    "\n",
    "The next step is create an empty list for every keyword where we will housing all the values."
   ]
  },
  {
   "cell_type": "code",
   "execution_count": 3,
   "metadata": {},
   "outputs": [],
   "source": [
    "#Create empty lists for the various attributes in insurance.csv\n",
    "ages = []\n",
    "sexes = []\n",
    "bmis = []\n",
    "num_children = []\n",
    "smoker_statuses = []\n",
    "regions = []\n",
    "insurance_charges = []"
   ]
  },
  {
   "cell_type": "code",
   "execution_count": 4,
   "metadata": {},
   "outputs": [],
   "source": [
    "# helper function to load csv data\n",
    "def load_list_data(lst, csv_file, column_name):\n",
    "    with open(csv_file) as csv_info:\n",
    "        csv_dict = csv.DictReader(csv_info)\n",
    "        for row in csv_dict:\n",
    "            # add the data from each row to a list\n",
    "            lst.append(row[column_name])\n",
    "        return lst"
   ]
  },
  {
   "cell_type": "markdown",
   "metadata": {},
   "source": [
    "The helper function above was created to make loading data into the lists as efficient as possible. Without this function, one would have to open **insurance.csv** and rewrite the `for` loop seven times; however, with this function, one can simply call `load_list_data()` each time as shown below."
   ]
  },
  {
   "cell_type": "code",
   "execution_count": 5,
   "metadata": {},
   "outputs": [],
   "source": [
    "# look at the data in insurance_csv_dict\n",
    "load_list_data(ages, 'insurance.csv', 'age')\n",
    "load_list_data(sexes, 'insurance.csv', 'sex')\n",
    "(load_list_data(bmis, 'insurance.csv', 'bmi'))\n",
    "load_list_data(num_children, 'insurance.csv', 'children')\n",
    "load_list_data(smoker_statuses, 'insurance.csv', 'smoker')\n",
    "load_list_data(regions, 'insurance.csv', 'region')\n",
    "load_list_data(insurance_charges, 'insurance.csv', 'charges')\n",
    "pass"
   ]
  },
  {
   "cell_type": "code",
   "execution_count": 6,
   "metadata": {},
   "outputs": [],
   "source": [
    "#We need convert this both list for analysis will make more easier ages = [int(age) for age in ages ]\n",
    "insurance_charges = [float(charge) for charge in insurance_charges ]\n",
    "num_children = [int(child) for child in num_children] \n",
    "ages = [int(age) for age in ages] \n",
    "bmis = [float(bmi) for bmi in bmis] "
   ]
  },
  {
   "cell_type": "markdown",
   "metadata": {},
   "source": [
    "Now that all the data from **insurance.csv** is neatly organized into labeled lists, the analysis can be started. "
   ]
  },
  {
   "cell_type": "code",
   "execution_count": 7,
   "metadata": {},
   "outputs": [],
   "source": [
    "class PatientsInfo:\n",
    "    # init method that takes in each list parameter\n",
    "    def __init__(self, patients_ages, patients_sexes, patients_bmis, patients_num_children,patients_smoker_statuses, patients_regions, patients_charges):\n",
    "        self.patients_ages = patients_ages\n",
    "        self.patients_sexes = patients_sexes\n",
    "        self.patients_bmis = patients_bmis\n",
    "        self.patients_num_children = patients_num_children\n",
    "        self.patients_smoker_statuses = patients_smoker_statuses\n",
    "        self.patients_regions = patients_regions\n",
    "        self.patients_charges = patients_charges  \n",
    "        \n",
    "    # 1. method that calculates thd ages of the patients by relation with charges in insurance.csv\n",
    "    def analyze_ages(self):\n",
    "        major_charge = 0\n",
    "        min_charge = 0\n",
    "        min_age = 0\n",
    "        max_age = 0\n",
    "        count = 0\n",
    "        dict = {}\n",
    "        for age, charges in zip(self.patients_ages, self.patients_charges):\n",
    "            if age > max_age:\n",
    "                max_age = age\n",
    "                major_charge = charges\n",
    "        for age, charges in zip(self.patients_ages, self.patients_charges):\n",
    "            if age < min_age:\n",
    "                min_age = age\n",
    "                min_charge = charges\n",
    "        range_age = round((max_age - min_age)/3, 2)\n",
    "        frist_group = min_age + range_age\n",
    "        ft_age = 0\n",
    "        ft_charges = 0 \n",
    "        count_1 = 0\n",
    "        second_group = frist_group + range_age\n",
    "        sc_age  = 0\n",
    "        sc_charges = 0 \n",
    "        count_2 = 0\n",
    "        third_group = second_group + range_age\n",
    "        td_age  = 0\n",
    "        td_charges = 0\n",
    "        count_3 = 0\n",
    "        for age, charges in zip(self.patients_ages, self.patients_charges):\n",
    "            if age <= frist_group:\n",
    "                ft_age += age\n",
    "                ft_charges += charges\n",
    "                count_1 += 1\n",
    "            elif age > frist_group and age <= second_group:\n",
    "                sc_age += age\n",
    "                sc_charges += charges\n",
    "                count_2 += 1\n",
    "            else:\n",
    "                td_age += age\n",
    "                td_charges += charges\n",
    "                count_3 += 1\n",
    "            count += 1   \n",
    "\n",
    "        print(\"Thecount maximun age fund is {max_age} years, his charges: ${major_charge}. The minimum age fund is: {min_age} years, his charges: ${min_charge}\".format(max_age=max_age, min_age=min_age, major_charge=round(major_charge,2), min_charge=round(min_charge,2)))\n",
    "        print( \"The average age and charge by clump is:\")\n",
    "        print(\"     First group:\\n {count_1} individuals = age: {ft_age}, charges: ${ft_charges}\".format(count_1=count_1, ft_age=round(ft_age/count_1,0), ft_charges=round(ft_charges/count_1,3)))      \n",
    "        print(\"     Second group: \\n {count_2} individuals = age: {sc_age}, charges: ${sc_charges}\".format(count_2=count_2, sc_age=round(sc_age/count_2,0), sc_charges=round(sc_charges/count_2,3)))      \n",
    "        print(\"     Third group:\\n  {count_3} individuals = age: {td_age}, charges: ${td_charges}\".format(count_3=count_3, td_age=round(td_age/count_3,0), td_charges=round(td_charges/count_3,3)))      \n",
    "        print(\"the total sample \", count)\n",
    "    #def standart_derivation(self):\n",
    "        \n",
    "    #2.-  method that calculates the number of males and females in insurance.csv\n",
    "    def analyze_sexes(self):\n",
    "        females = 0\n",
    "        males = 0\n",
    "        charges_females = 0\n",
    "        charges_males = 0\n",
    "        count = 0 \n",
    "        # iterate through each sex in the sexes and charges list\n",
    "        for sex, charge in zip(self.patients_sexes, self.patients_charges):\n",
    "            if sex == 'female':\n",
    "                females += 1\n",
    "                charges_females += charge\n",
    "            elif sex == 'male':\n",
    "                males += 1\n",
    "                charges_males += charge\n",
    "        # print out the number of each\n",
    "        print(\"Count for female: {females}, charge average: ${charges_females}\".format(females=females, charges_females=round(charges_females/females,3)))\n",
    "        print(\"Count for male: {males}, charge average: ${charges_males}\".format(males=males, charges_males=round(charges_males/males,3)))\n",
    "        print(\"the total sample \", males+females)\n",
    "        \n",
    "    #3\n",
    "    def bmis(self):\n",
    "        maximum = max(bmis)\n",
    "        minimum = min(bmis)\n",
    "        dictt = {}\n",
    "        collect = {}\n",
    "        under_bmi = []\n",
    "        under_charge = []\n",
    "        healthy_bmi = []\n",
    "        healthy_charge = []\n",
    "        over_bmi = []\n",
    "        over_charge = []\n",
    "        obese_bmi = []\n",
    "        obese_charge = []\n",
    "        for bmi, charges in zip(self.patients_bmis, self.patients_charges):\n",
    "                if bmi == maximum:\n",
    "                    dictt[bmi] = charges\n",
    "                elif bmi == minimum:\n",
    "                    dictt[bmi] = charges\n",
    "                    \n",
    "        for bmi, charges in zip(self.patients_bmis, self.patients_charges):\n",
    "            if bmi < 18.50:\n",
    "                under_bmi.append(bmi)\n",
    "                under_charge.append(round(charges,3))\n",
    "            elif bmi > 18.50 and bmi < 24.90:\n",
    "                healthy_bmi.append(bmi)\n",
    "                healthy_charge.append(round(charges,3))\n",
    "            elif bmi > 25 and bmi < 29.90:\n",
    "                over_bmi.append(bmi)\n",
    "                over_charge.append(round(charges,3))\n",
    "            else: \n",
    "                obese_bmi.append(bmi)\n",
    "                obese_charge.append(round(charges,3))    \n",
    "                \n",
    "        print(\"Patients underweight: {lenght} \\n   Average BMI: {under_bmi} \\n   Average Charges: {under_charge} \\n\".format(lenght=len(under_bmi), under_bmi=round(statistics.mean(under_bmi),2), under_charge=round(statistics.mean(under_charge),2)))\n",
    "        print(\"Patients healthyweight: {lenght1} \\n   Average BMI: {healthy_bmi} \\n   Average Charges: {healthy_charge} \\n\".format(lenght1=len(healthy_bmi), healthy_bmi=round(statistics.mean(healthy_bmi),2), healthy_charge=round(statistics.mean(healthy_charge),2)))\n",
    "        print(\"Patients Overweight: {lenght1} \\n   Average BMI: {over_bmi} \\n   Average Charges: {over_charge} \\n\".format(lenght1=len(over_bmi), over_bmi=round(statistics.mean(over_bmi),2), over_charge=round(statistics.mean(over_charge),2)))\n",
    "        print(\"Patients Obeseweight: {lenght1} \\n   Average BMI: {obese_bmi} \\n   Average Charges: {obese_charge} \\n\".format(lenght1=len(obese_bmi), obese_bmi=round(statistics.mean(obese_bmi),2), obese_charge=round(statistics.mean(obese_charge),2)))\n",
    "    \n",
    "    def smokers(self):\n",
    "        smoke = 0\n",
    "        nonsmoke = 0\n",
    "        charge_smoke = 0\n",
    "        charge_nonsmoke = 0\n",
    "        for smk, charge in zip(self.patients_smoker_statuses,self.patients_charges):\n",
    "            if smk == \"yes\":\n",
    "                smoke += 1\n",
    "                charge_smoke += charge \n",
    "            else:\n",
    "                nonsmoke += 1\n",
    "                charge_nonsmoke += charge \n",
    "        print(\"Smokers Patients Percentage:\")          \n",
    "        print(\"   Smokers: %{smoke}\".format(smoke=round((smoke * 100)/(smoke + nonsmoke),2)))\n",
    "        print(\"   Non-Smokers: %{nonsmoke} \\n\".format(nonsmoke=round((nonsmoke * 100)/(smoke + nonsmoke),2)))\n",
    "        print(\"The average annual charge for smokers and non smokers:\")\n",
    "        print(\"   Smokers: ${charge_smoke}\".format(charge_smoke=round((charge_smoke/smoke),2)))\n",
    "        print(\"   Non-Smokers: ${charge_nonsmoke} \\n\".format(charge_nonsmoke=round((charge_nonsmoke/nonsmoke),2)))\n",
    "        print(\"Diferiencies on charges: $\",round((charge_smoke/smoke)-(charge_nonsmoke/nonsmoke),3))\n",
    "    \n",
    "    # method to find each unique region patients are from\n",
    "    def childrens(self):\n",
    "        count_no_child = 0 \n",
    "        charge_no_child = 0\n",
    "        count_1 = 0\n",
    "        count_1to2_child = 0\n",
    "        charge_1to2 = 0\n",
    "        count_2 = 0\n",
    "        count_more2_child = 0\n",
    "        charge_more2 = 0\n",
    "        count_no = 0\n",
    "        for child, charges in zip(self.patients_num_children, self.patients_charges):\n",
    "            if child >= 1 and child <= 2:\n",
    "                count_1to2_child += child\n",
    "                charge_1to2 += charges \n",
    "                count_1 += 1\n",
    "            elif child >= 3:\n",
    "                count_more2_child += child\n",
    "                charge_more2 += charges\n",
    "                count_2 += 1\n",
    "            else: \n",
    "                charge_no_child += charges\n",
    "                count_no += 1\n",
    "            total_count = count_no + count_2 + count_1\n",
    "            t_charges = charge_no_child + charge_more2 +charge_1to2\n",
    "        \n",
    "        print(\"The clasification correspond to the next categories: \\n\")\n",
    "        print(\"With no childrens \\n Patients in this clump: {count_no} \\n Average Charges: ${charge_no_child}\\n\".format(count_no=count_no, charge_no_child=(round((charge_no_child/count_no),2))))\n",
    "        print(\"With one to tow childrens \\n Patients in this clump: {count_1} \\n Average Charges: ${charge_1to2}\\n\".format(count_1=count_1, charge_1to2=(round((charge_1to2/count_1),2))))\n",
    "        print(\"With more than tow childrens \\n Patients in this clump: {count_2} \\n Average Charges: ${charge_more2}\\n\".format(count_2=count_2, charge_more2=(round((charge_more2/count_2),2))))\n",
    "    \n",
    "    def regions(self):\n",
    "        unique = {}\n",
    "        for region, charges in zip(self.patients_regions, self.patients_charges):\n",
    "                if region  in unique:\n",
    "                    unique[region] += [charges]\n",
    "                else: \n",
    "                    unique[region] = [charges]\n",
    "        average = {}\n",
    "        for region, list_charges in unique.items():\n",
    "            #print(sum(list_charges))\n",
    "            #print(len(unique.get(region)))\n",
    "            average[region] = round((sum(list_charges)) / (len(unique.get(region))),3)\n",
    "        sortdict =  dict(sorted(average.items(), key=lambda item:item[1], reverse=True))\n",
    "        return sortdict\n",
    "        \n",
    "         \n",
    "    def charges(self):\n",
    "        # initialize total_charges variable\n",
    "        total_charges = 0\n",
    "        mean = statistics.mean(insurance_charges)\n",
    "        variance = statistics.pvariance(insurance_charges)\n",
    "        st_dev = statistics.pstdev(insurance_charges)\n",
    "        print(\"Annual charges. \\n  Mean: {mean} \\n  Variance:{variance}\".format(mean=round(mean,2), variance=round(variance)))\n",
    "        print(\"  Standart Derivation: {st_dev}\".format(st_dev= round(st_dev,2)))\n",
    "        #return \n",
    "        \n",
    "    # method to create dictionary with all patients information\n",
    "    def create_dictionary(self):\n",
    "        self.patients_dictionary = {}\n",
    "        self.patients_dictionary[\"age\"] = [int(age) for age in self.patients_ages]\n",
    "        self.patients_dictionary[\"sex\"] = self.patients_sexes\n",
    "        self.patients_dictionary[\"bmi\"] = self.patients_bmis\n",
    "        self.patients_dictionary[\"children\"] = self.patients_num_children\n",
    "        self.patients_dictionary[\"smoker\"] = self.patients_smoker_statuses\n",
    "        self.patients_dictionary[\"regions\"] = self.patients_regions\n",
    "        self.patients_dictionary[\"charges\"] = self.patients_charges\n",
    "        return self.patients_dictionary"
   ]
  },
  {
   "cell_type": "markdown",
   "metadata": {},
   "source": [
    "The next step is to create an instance of the class called `patient_info`. With this instance, each method can be used to see the results of the analysis."
   ]
  },
  {
   "cell_type": "code",
   "execution_count": 8,
   "metadata": {},
   "outputs": [],
   "source": [
    "patient_info = PatientsInfo(ages, sexes, bmis, num_children, smoker_statuses, regions, insurance_charges)"
   ]
  },
  {
   "cell_type": "code",
   "execution_count": null,
   "metadata": {},
   "outputs": [],
   "source": []
  },
  {
   "cell_type": "markdown",
   "metadata": {},
   "source": [
    "#### Analyzing Patients Ages"
   ]
  },
  {
   "cell_type": "code",
   "execution_count": 17,
   "metadata": {
    "scrolled": true
   },
   "outputs": [
    {
     "name": "stdout",
     "output_type": "stream",
     "text": [
      "Thecount maximun age fund is 64 years, his charges: $30166.62. The minimum age fund is: 0 years, his charges: $0\n",
      "The average age and charge by clump is:\n",
      "     First group:\n",
      " 194 individuals = age: 19.0, charges: $8138.614\n",
      "     Second group: \n",
      " 561 individuals = age: 32.0, charges: $11048.527\n",
      "     Third group:\n",
      "  583 individuals = age: 53.0, charges: $17116.141\n",
      "the total sample  1338\n"
     ]
    }
   ],
   "source": [
    "patient_info.analyze_ages()"
   ]
  },
  {
   "cell_type": "markdown",
   "metadata": {},
   "source": [
    "As shown in instance class above it's clear to see a pattern in the result, we can see how the anual charges increase with age, charges are directly proportional to age. \n",
    "We found that major age is 64 and lower is 18, we made three clumps between this parameters and retrieved the ages and annual charges average to visualize the results. "
   ]
  },
  {
   "cell_type": "code",
   "execution_count": 10,
   "metadata": {},
   "outputs": [
    {
     "name": "stdout",
     "output_type": "stream",
     "text": [
      "The Mean by age is: 39.0\n",
      "his Standart Derivation is: 14.0\n"
     ]
    }
   ],
   "source": [
    "print(\"The Mean by age is:\", round(statistics.mean(ages), 0))\n",
    "print(\"his Standart Derivation is:\",round(statistics.pstdev(ages), 0))"
   ]
  },
  {
   "cell_type": "markdown",
   "metadata": {},
   "source": [
    "Here above we show two important statistics mathematical expression, `Standard Deviation and Mean` by age it help us to understand how spread out our population is.\n"
   ]
  },
  {
   "cell_type": "markdown",
   "metadata": {},
   "source": [
    "#### Analyzing Patients Genres "
   ]
  },
  {
   "cell_type": "code",
   "execution_count": 11,
   "metadata": {
    "scrolled": true
   },
   "outputs": [
    {
     "name": "stdout",
     "output_type": "stream",
     "text": [
      "Count for female: 662, charge average: $12569.579\n",
      "Count for male: 676, charge average: $13956.751\n",
      "the total sample  1338\n"
     ]
    }
   ],
   "source": [
    "patient_info.analyze_sexes()"
   ]
  },
  {
   "cell_type": "markdown",
   "metadata": {},
   "source": [
    "It's important to notice that the distribution is in balance in both groups and we can even see it is apply to the annual charges."
   ]
  },
  {
   "cell_type": "markdown",
   "metadata": {},
   "source": [
    "#### Analyzing Ranges Patients BMI "
   ]
  },
  {
   "cell_type": "markdown",
   "metadata": {},
   "source": [
    "For this class instance we divide the population in four categories and analyzed the  BMI and annual Charges average discovering the next results:"
   ]
  },
  {
   "cell_type": "code",
   "execution_count": 12,
   "metadata": {
    "scrolled": true
   },
   "outputs": [
    {
     "name": "stdout",
     "output_type": "stream",
     "text": [
      "Patients underweight: 20 \n",
      "   Average BMI: 17.57 \n",
      "   Average Charges: 8852.2 \n",
      "\n",
      "Patients healthyweight: 221 \n",
      "   Average BMI: 22.6 \n",
      "   Average Charges: 10404.9 \n",
      "\n",
      "Patients Overweight: 372 \n",
      "   Average BMI: 27.54 \n",
      "   Average Charges: 11020.18 \n",
      "\n",
      "Patients Obeseweight: 725 \n",
      "   Average BMI: 35.08 \n",
      "   Average Charges: 15420.4 \n",
      "\n"
     ]
    }
   ],
   "source": [
    "patient_info.bmis()"
   ]
  },
  {
   "cell_type": "markdown",
   "metadata": {},
   "source": [
    "We can notice the major population it's found in the four category (\"Obese\")  and that contain too the greader Annual Charges"
   ]
  },
  {
   "cell_type": "markdown",
   "metadata": {},
   "source": [
    "#### Analyzing Patientes 'Smoke' status "
   ]
  },
  {
   "cell_type": "markdown",
   "metadata": {},
   "source": [
    "   The average yearly medical insurance charge per smoker individual is `$32050.23` dollars while non smoker individual is  `$8434.27` dollars that represent a considerable difference amount of `$23615.964` dollars. The population of non smoker patients is bigger %79.52 meanwhile non smokes patients is just %20.43.\n",
    " Therefore smoking is a factor that drastically affect the annual charges for an individual. "
   ]
  },
  {
   "cell_type": "code",
   "execution_count": 13,
   "metadata": {
    "scrolled": true
   },
   "outputs": [
    {
     "name": "stdout",
     "output_type": "stream",
     "text": [
      "Smokers Patients Percentage:\n",
      "   Smokers: %20.48\n",
      "   Non-Smokers: %79.52 \n",
      "\n",
      "The average annual charge for smokers and non smokers:\n",
      "   Smokers: $32050.23\n",
      "   Non-Smokers: $8434.27 \n",
      "\n",
      "Diferiencies on charges: $ 23615.964\n"
     ]
    }
   ],
   "source": [
    "patient_info.smokers()"
   ]
  },
  {
   "cell_type": "markdown",
   "metadata": {},
   "source": [
    "#### Analyzing Patientes -Childrens "
   ]
  },
  {
   "cell_type": "markdown",
   "metadata": {},
   "source": [
    "In this category analyzing patients childrens we can see that the difference in annual charges is not big and it can be taken as a factor that don't affect in great manner to this charges. "
   ]
  },
  {
   "cell_type": "code",
   "execution_count": 14,
   "metadata": {
    "scrolled": true
   },
   "outputs": [
    {
     "name": "stdout",
     "output_type": "stream",
     "text": [
      "The clasification correspond to the next categories: \n",
      "\n",
      "With no childrens \n",
      " Patients in this clump: 574 \n",
      " Average Charges: $12365.98\n",
      "\n",
      "With one to tow childrens \n",
      " Patients in this clump: 564 \n",
      " Average Charges: $13727.93\n",
      "\n",
      "With more than tow childrens \n",
      " Patients in this clump: 200 \n",
      " Average Charges: $14576.0\n",
      "\n"
     ]
    }
   ],
   "source": [
    "patient_info.childrens()"
   ]
  },
  {
   "cell_type": "markdown",
   "metadata": {},
   "source": [
    "#### Analyzing Regions   "
   ]
  },
  {
   "cell_type": "code",
   "execution_count": 15,
   "metadata": {
    "scrolled": true
   },
   "outputs": [
    {
     "data": {
      "text/plain": [
       "{'southeast': 14735.411,\n",
       " 'northeast': 13406.385,\n",
       " 'northwest': 12417.575,\n",
       " 'southwest': 12346.937}"
      ]
     },
     "execution_count": 15,
     "metadata": {},
     "output_type": "execute_result"
    }
   ],
   "source": [
    "patient_info.regions()"
   ]
  },
  {
   "cell_type": "markdown",
   "metadata": {},
   "source": [
    "For analyze this question we decided to make a directory in which every region act as a keyword and  yielded his average.\n",
    "We discoverted that majors charges are in SouthEast with roughly `$14735` and the minimum in SouthWest with `$12346`"
   ]
  },
  {
   "cell_type": "markdown",
   "metadata": {},
   "source": [
    "#### Analyzing Patients  Annual Charges  "
   ]
  },
  {
   "cell_type": "code",
   "execution_count": 16,
   "metadata": {},
   "outputs": [
    {
     "name": "stdout",
     "output_type": "stream",
     "text": [
      "Annual charges. \n",
      "  Mean: 13270.42 \n",
      "  Variance:146542766\n",
      "  Standart Derivation: 12105.48\n"
     ]
    }
   ],
   "source": [
    " patient_info.charges()"
   ]
  },
  {
   "cell_type": "markdown",
   "metadata": {},
   "source": [
    "This statistics mathematical expresions helps us to visualize how widespread that populaton is. "
   ]
  },
  {
   "cell_type": "markdown",
   "metadata": {},
   "source": [
    "### Conclusion \n",
    "After make this analysis we are able to respond to the questions pose at the beginning in article. e.g. which factors affect directly to annual charges. To visualize which factor have a greater weight on annual charges we show the next bullets (Considering like one the factor with more weight):\n",
    " * 1.- Smoke\n",
    " * 2.- Age\n",
    " * 3.- BMI\n",
    " * 4.- Region\n",
    " * 5.- Genre \n",
    " \n",
    "To select the order above we choose the factors how have major contrast with his charges. e.g. we found \"Smokers Status\" as a factor with more difference, patients how smokes have a major annual charges above even `$2300.00`  compared with patients how don't. However Genre is a factor with less weight because it's difference is barely `$200` and it can't be taken as a real factor which one can compare."
   ]
  }
 ],
 "metadata": {
  "kernelspec": {
   "display_name": "Python 3",
   "language": "python",
   "name": "python3"
  },
  "language_info": {
   "codemirror_mode": {
    "name": "ipython",
    "version": 3
   },
   "file_extension": ".py",
   "mimetype": "text/x-python",
   "name": "python",
   "nbconvert_exporter": "python",
   "pygments_lexer": "ipython3",
   "version": "3.8.3"
  }
 },
 "nbformat": 4,
 "nbformat_minor": 4
}
